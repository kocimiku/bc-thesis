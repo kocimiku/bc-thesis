{
 "cells": [
  {
   "cell_type": "code",
   "execution_count": 6,
   "id": "4bf7536f-aff2-457d-9920-e3627f311013",
   "metadata": {
    "scrolled": true
   },
   "outputs": [],
   "source": [
    "from train import * \n",
    "from preparation import * \n",
    "from visualise import * "
   ]
  },
  {
   "cell_type": "code",
   "execution_count": 7,
   "id": "fd87f03b-6031-4035-992d-bf5c77187dc3",
   "metadata": {},
   "outputs": [],
   "source": [
    "Xtrain, Xval, Xtest, ytrain, yval, ytest = load_euthyroid()\n",
    "X_final = pd.concat([Xtrain, Xval])\n",
    "y_final = pd.concat([ytrain, yval])\n",
    "eu1, conf1, rep1 = train_final_gam({'interactions': 0, 'learning_rate': 0.015125, 'max_leaves': 3, 'random_state': 3001}, X_final, Xtest, y_final, ytest)"
   ]
  },
  {
   "cell_type": "code",
   "execution_count": 1,
   "id": "c6fe2c10-b8c7-4e71-b233-93940abeacb1",
   "metadata": {},
   "outputs": [
    {
     "ename": "NameError",
     "evalue": "name 'interpret_ebm' is not defined",
     "output_type": "error",
     "traceback": [
      "\u001b[0;31m---------------------------------------------------------------------------\u001b[0m",
      "\u001b[0;31mNameError\u001b[0m                                 Traceback (most recent call last)",
      "Cell \u001b[0;32mIn[1], line 1\u001b[0m\n\u001b[0;32m----> 1\u001b[0m \u001b[43minterpret_ebm\u001b[49m(eu1, \u001b[38;5;124m\"\u001b[39m\u001b[38;5;124mtest\u001b[39m\u001b[38;5;124m\"\u001b[39m, Xtest, ytest)\n",
      "\u001b[0;31mNameError\u001b[0m: name 'interpret_ebm' is not defined"
     ]
    }
   ],
   "source": [
    "interpret_ebm(eu1, \"test\", Xtest, ytest)"
   ]
  }
 ],
 "metadata": {
  "kernelspec": {
   "display_name": "Python 3 (ipykernel)",
   "language": "python",
   "name": "python3"
  },
  "language_info": {
   "codemirror_mode": {
    "name": "ipython",
    "version": 3
   },
   "file_extension": ".py",
   "mimetype": "text/x-python",
   "name": "python",
   "nbconvert_exporter": "python",
   "pygments_lexer": "ipython3",
   "version": "3.10.12"
  }
 },
 "nbformat": 4,
 "nbformat_minor": 5
}
